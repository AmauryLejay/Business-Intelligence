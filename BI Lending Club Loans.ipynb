{
 "cells": [
  {
   "cell_type": "markdown",
   "metadata": {
    "ExecuteTime": {
     "end_time": "2018-06-13T07:08:44.436409Z",
     "start_time": "2018-06-13T07:08:42.998294Z"
    },
    "collapsed": true
   },
   "source": [
    "## Business Intelligence : \n",
    "### Applying Tree Based algorithm to credit scoring - case of Lending Club\n",
    "\n",
    "Dataset obtained from the following Data Science competition website:\n",
    "https://www.kaggle.com/wendykan/lending-club-loan-data\n",
    "\n",
    "Project conducted back in December 2017 as part of a Business Intelligence Master class - aiming at proving the added value from a transparency perspective, of tree based algorithm, to identify decisive factors in loan delivery of credit institutions.\n",
    "\n",
    "The useful feature_importance method helped to isolate these important factors.\n"
   ]
  },
  {
   "cell_type": "markdown",
   "metadata": {},
   "source": [
    "****"
   ]
  },
  {
   "cell_type": "code",
   "execution_count": null,
   "metadata": {},
   "outputs": [],
   "source": [
    "%matplotlib inline\n",
    "\n",
    "import pandas as pd\n",
    "import numpy as np\n",
    "import seaborn as sns\n",
    "import matplotlib.pyplot as plt\n",
    "\n",
    "#Modelling\n",
    "#from xgboost import XGBClassifier\n",
    "from sklearn import tree\n",
    "from sklearn import metrics\n",
    "from sklearn.ensemble import RandomForestClassifier\n",
    "from sklearn.model_selection import train_test_split\n",
    "from sklearn.metrics import precision_recall_fscore_support\n",
    "from sklearn.metrics import accuracy_score\n",
    "\n",
    "# For styling of seaborn vizualization\n",
    "sns.set(style='white', context='notebook')\n",
    "sns.set_palette(\"PuOr\")"
   ]
  },
  {
   "cell_type": "code",
   "execution_count": 2,
   "metadata": {
    "ExecuteTime": {
     "end_time": "2018-06-13T07:09:01.976939Z",
     "start_time": "2018-06-13T07:08:44.438748Z"
    }
   },
   "outputs": [
    {
     "name": "stderr",
     "output_type": "stream",
     "text": [
      "/Users/amaurylejay/anaconda3/lib/python3.6/site-packages/IPython/core/interactiveshell.py:2728: DtypeWarning: Columns (19,55) have mixed types. Specify dtype option on import or set low_memory=False.\n",
      "  interactivity=interactivity, compiler=compiler, result=result)\n"
     ]
    }
   ],
   "source": [
    "# Data loading\n",
    "loan = pd.read_csv('/Users/amaurylejay/Desktop/Core/BI/Final project/loan.csv')"
   ]
  },
  {
   "cell_type": "markdown",
   "metadata": {},
   "source": [
    "### Preprocessing"
   ]
  },
  {
   "cell_type": "code",
   "execution_count": 3,
   "metadata": {
    "ExecuteTime": {
     "end_time": "2018-06-13T07:09:02.413083Z",
     "start_time": "2018-06-13T07:09:01.979805Z"
    },
    "collapsed": true
   },
   "outputs": [],
   "source": [
    "#Dropping non-relevant columns for this analysis\n",
    "droplist = ['verification_status_joint','pub_rec','recoveries','collection_recovery_fee','mths_since_last_record','initial_list_status','mths_since_last_major_derog','collections_12_mths_ex_med','url','open_rv_24m','sub_grade','max_bal_bc','open_rv_24m','total_rev_hi_lim','policy_code','annual_inc_joint', 'dti_joint', 'last_pymnt_d', 'next_pymnt_d','total_pymnt_inv', 'total_rec_int','earliest_cr_line', \"issue_d\",\"last_credit_pull_d\"]\n",
    "loan = loan.drop(droplist, axis=1)"
   ]
  },
  {
   "cell_type": "code",
   "execution_count": 4,
   "metadata": {
    "ExecuteTime": {
     "end_time": "2018-06-13T07:09:03.890263Z",
     "start_time": "2018-06-13T07:09:02.415559Z"
    },
    "collapsed": true
   },
   "outputs": [],
   "source": [
    "#Removing columns with more than 20% missing values - could have found a better way - but accuracy not the point of this project\n",
    "loan = loan.dropna(axis = 1,thresh = 0.2*loan.shape[0])"
   ]
  },
  {
   "cell_type": "code",
   "execution_count": 5,
   "metadata": {
    "ExecuteTime": {
     "end_time": "2018-06-13T07:09:03.904580Z",
     "start_time": "2018-06-13T07:09:03.892669Z"
    }
   },
   "outputs": [
    {
     "data": {
      "text/plain": [
       "Index(['id', 'member_id', 'loan_amnt', 'funded_amnt', 'funded_amnt_inv',\n",
       "       'term', 'int_rate', 'installment', 'grade', 'emp_title', 'emp_length',\n",
       "       'home_ownership', 'annual_inc', 'verification_status', 'loan_status',\n",
       "       'pymnt_plan', 'purpose', 'title', 'zip_code', 'addr_state', 'dti',\n",
       "       'delinq_2yrs', 'inq_last_6mths', 'mths_since_last_delinq', 'open_acc',\n",
       "       'revol_bal', 'revol_util', 'total_acc', 'out_prncp', 'out_prncp_inv',\n",
       "       'total_pymnt', 'total_rec_prncp', 'total_rec_late_fee',\n",
       "       'last_pymnt_amnt', 'application_type', 'acc_now_delinq', 'tot_coll_amt',\n",
       "       'tot_cur_bal'],\n",
       "      dtype='object')"
      ]
     },
     "execution_count": 5,
     "metadata": {},
     "output_type": "execute_result"
    }
   ],
   "source": [
    "#column name remaining\n",
    "loan.columns"
   ]
  },
  {
   "cell_type": "code",
   "execution_count": 6,
   "metadata": {
    "ExecuteTime": {
     "end_time": "2018-06-13T07:09:04.042076Z",
     "start_time": "2018-06-13T07:09:03.907688Z"
    },
    "collapsed": true
   },
   "outputs": [],
   "source": [
    "#Transforming the NAs of this columns into 0s\n",
    "loan['mths_since_last_delinq'] = loan['mths_since_last_delinq'].fillna(0)\n",
    "loan['tot_coll_amt'] = loan['tot_coll_amt'].fillna(0)\n",
    "loan['tot_cur_bal'] = loan['tot_cur_bal'].fillna(0)\n",
    "loan['total_acc'] = loan['total_acc'].fillna(0)\n",
    "loan['acc_now_delinq'] = loan['acc_now_delinq'].fillna(0)\n",
    "loan['revol_util'] = loan['revol_util'].fillna(0)"
   ]
  },
  {
   "cell_type": "code",
   "execution_count": 7,
   "metadata": {
    "ExecuteTime": {
     "end_time": "2018-06-13T07:10:11.604194Z",
     "start_time": "2018-06-13T07:09:04.044573Z"
    }
   },
   "outputs": [
    {
     "name": "stdout",
     "output_type": "stream",
     "text": [
      "emp_title\n",
      "emp_length\n",
      "annual_inc\n",
      "title\n",
      "delinq_2yrs\n",
      "inq_last_6mths\n",
      "open_acc\n"
     ]
    }
   ],
   "source": [
    "#Below are the column name which still have missing values.\n",
    "for i in range(0,len(list(loan.columns.values))):\n",
    "    if list(sum(list(loan.isnull().values== True)))[i] != 0:\n",
    "        print(list(loan.columns.values)[i])\n",
    "    else: \n",
    "        pass \n"
   ]
  },
  {
   "cell_type": "code",
   "execution_count": 8,
   "metadata": {
    "ExecuteTime": {
     "end_time": "2018-06-13T07:11:20.080440Z",
     "start_time": "2018-06-13T07:10:11.606910Z"
    },
    "collapsed": true
   },
   "outputs": [],
   "source": [
    "# Given the number of remaining missing values, we decide to drop the rows where there are 29 missing values in the  column \n",
    "for i in range(0, loan.shape[1]):\n",
    "    if list(sum(list(loan.isnull().values== True)))[i]==29:\n",
    "        loan.dropna(subset = [str(list(loan.columns)[i])],how='any', inplace = True)\n",
    "    else: pass"
   ]
  },
  {
   "cell_type": "code",
   "execution_count": 9,
   "metadata": {
    "ExecuteTime": {
     "end_time": "2018-06-13T07:11:21.093486Z",
     "start_time": "2018-06-13T07:11:20.083278Z"
    }
   },
   "outputs": [
    {
     "data": {
      "text/plain": [
       "id                            0\n",
       "member_id                     0\n",
       "loan_amnt                     0\n",
       "funded_amnt                   0\n",
       "funded_amnt_inv               0\n",
       "term                          0\n",
       "int_rate                      0\n",
       "installment                   0\n",
       "grade                         0\n",
       "emp_title                 51450\n",
       "emp_length                44825\n",
       "home_ownership                0\n",
       "annual_inc                    0\n",
       "verification_status           0\n",
       "loan_status                   0\n",
       "pymnt_plan                    0\n",
       "purpose                       0\n",
       "title                       152\n",
       "zip_code                      0\n",
       "addr_state                    0\n",
       "dti                           0\n",
       "delinq_2yrs                   0\n",
       "inq_last_6mths                0\n",
       "mths_since_last_delinq        0\n",
       "open_acc                      0\n",
       "revol_bal                     0\n",
       "revol_util                    0\n",
       "total_acc                     0\n",
       "out_prncp                     0\n",
       "out_prncp_inv                 0\n",
       "total_pymnt                   0\n",
       "total_rec_prncp               0\n",
       "total_rec_late_fee            0\n",
       "last_pymnt_amnt               0\n",
       "application_type              0\n",
       "acc_now_delinq                0\n",
       "tot_coll_amt                  0\n",
       "tot_cur_bal                   0\n",
       "dtype: int64"
      ]
     },
     "execution_count": 9,
     "metadata": {},
     "output_type": "execute_result"
    }
   ],
   "source": [
    "#Remaining missing value is only for the title / textual information columns, which we still want to keep. \n",
    "loan.isnull().sum()"
   ]
  },
  {
   "cell_type": "code",
   "execution_count": 10,
   "metadata": {
    "ExecuteTime": {
     "end_time": "2018-06-13T07:11:21.115281Z",
     "start_time": "2018-06-13T07:11:21.098142Z"
    },
    "collapsed": true
   },
   "outputs": [],
   "source": [
    "#Need to reset index because they are some missing values. \n",
    "loan.reset_index(inplace = True)"
   ]
  },
  {
   "cell_type": "code",
   "execution_count": 11,
   "metadata": {
    "ExecuteTime": {
     "end_time": "2018-06-13T07:11:33.031837Z",
     "start_time": "2018-06-13T07:11:21.125319Z"
    },
    "collapsed": true
   },
   "outputs": [],
   "source": [
    "#Generating proper zip_codes\n",
    "loan['zip_code'] = [str(loan['zip_code'][i]).replace('xx', '01')for i in range(0,loan.shape[0])]"
   ]
  },
  {
   "cell_type": "code",
   "execution_count": 12,
   "metadata": {
    "ExecuteTime": {
     "end_time": "2018-06-13T07:11:33.073941Z",
     "start_time": "2018-06-13T07:11:33.034273Z"
    },
    "collapsed": true
   },
   "outputs": [],
   "source": [
    "#Isolating indexes\n",
    "id_columns = loan[['id','member_id']].copy()"
   ]
  },
  {
   "cell_type": "code",
   "execution_count": 13,
   "metadata": {
    "ExecuteTime": {
     "end_time": "2018-06-13T07:11:33.150853Z",
     "start_time": "2018-06-13T07:11:33.076449Z"
    },
    "collapsed": true
   },
   "outputs": [],
   "source": [
    "#Isolating default\n",
    "default = loan.loc[loan['loan_status'] == 'Default']"
   ]
  },
  {
   "cell_type": "code",
   "execution_count": 14,
   "metadata": {
    "ExecuteTime": {
     "end_time": "2018-06-13T07:11:33.426358Z",
     "start_time": "2018-06-13T07:11:33.155400Z"
    },
    "collapsed": true
   },
   "outputs": [],
   "source": [
    "#Dropping default instances from original dataframe\n",
    "loan = loan.loc[loan['loan_status'] != 'Default']"
   ]
  },
  {
   "cell_type": "code",
   "execution_count": 15,
   "metadata": {
    "ExecuteTime": {
     "end_time": "2018-06-13T07:11:33.437772Z",
     "start_time": "2018-06-13T07:11:33.428828Z"
    },
    "collapsed": true
   },
   "outputs": [],
   "source": [
    "#Need to reset index because they are some missing values (defaults)\n",
    "loan.reset_index(inplace = True)"
   ]
  },
  {
   "cell_type": "code",
   "execution_count": 16,
   "metadata": {
    "ExecuteTime": {
     "end_time": "2018-06-13T07:11:33.454735Z",
     "start_time": "2018-06-13T07:11:33.441222Z"
    },
    "collapsed": true
   },
   "outputs": [],
   "source": [
    "#Applying Reservoir Sampling to reduce the size of our dataset and make it computationally exploitable\n",
    "from random import randrange\n",
    "\n",
    "def reservoir_sampling(items, k):\n",
    "    \"\"\" \n",
    "    Reservoir sampling algorithm for large sample space or unknow end list\n",
    "    See <http://en.wikipedia.org/wiki/Reservoir_sampling> for detail>\n",
    "    Type: ([a] * Int) -> [a]\n",
    "    Prev constrain: k is positive and items at least of k items\n",
    "    Post constrain: the length of return array is k\n",
    "    \"\"\"\n",
    "    sample = items[0:k]\n",
    "\n",
    "    for i in range(k, len(items)):\n",
    "        j = randrange(1, i + 1)\n",
    "        if j <= k:\n",
    "            sample[j] = items[i]\n",
    "\n",
    "    return sample"
   ]
  },
  {
   "cell_type": "code",
   "execution_count": 17,
   "metadata": {
    "ExecuteTime": {
     "end_time": "2018-06-13T07:11:33.466825Z",
     "start_time": "2018-06-13T07:11:33.459185Z"
    }
   },
   "outputs": [
    {
     "data": {
      "text/plain": [
       "(886131, 40)"
      ]
     },
     "execution_count": 17,
     "metadata": {},
     "output_type": "execute_result"
    }
   ],
   "source": [
    "#Loan initial shape\n",
    "loan.shape"
   ]
  },
  {
   "cell_type": "code",
   "execution_count": 18,
   "metadata": {
    "ExecuteTime": {
     "end_time": "2018-06-13T07:11:33.514725Z",
     "start_time": "2018-06-13T07:11:33.470060Z"
    },
    "collapsed": true
   },
   "outputs": [],
   "source": [
    "#Isolating the indexes to later subselect them\n",
    "loan_index = list(loan.index)\n",
    "\n",
    "#K = number of SAFE elements to drop (we actually select them, to later drop them)\n",
    "k = round(0.8 * (len(loan_index)))\n",
    "\n",
    "loan = loan.drop(['index','id'], axis=1)\n",
    "default = default.drop(['index','id'], axis = 1)"
   ]
  },
  {
   "cell_type": "code",
   "execution_count": 21,
   "metadata": {
    "ExecuteTime": {
     "end_time": "2018-06-13T07:11:34.220055Z",
     "start_time": "2018-06-13T07:11:33.923336Z"
    },
    "collapsed": true
   },
   "outputs": [],
   "source": [
    "#Selecting the one that we will drop\n",
    "indexes = reservoir_sampling(loan_index,k)\n",
    "\n",
    "#Dropping the rows that are from\n",
    "new_loan = loan.drop(loan.index[indexes])\n",
    "\n",
    "#Dropping index column because we will append this dataframe to the other one anyway\n",
    "new_loan = new_loan.drop(['level_0'],axis = 1)\n",
    "\n",
    "#Appending the default and new_loan\n",
    "final_loan = new_loan.append(default, ignore_index=True)\n",
    "\n",
    "#Need to reset index to create a new index for the final df\n",
    "final_loan.reset_index(inplace = True)"
   ]
  },
  {
   "cell_type": "code",
   "execution_count": 26,
   "metadata": {
    "ExecuteTime": {
     "end_time": "2018-06-13T07:11:34.893552Z",
     "start_time": "2018-06-13T07:11:34.886282Z"
    },
    "collapsed": true
   },
   "outputs": [],
   "source": [
    "#Creating a single dataset loan\n",
    "#final_loan.to_csv('final_loan.csv', sep = ';', encoding = 'utf-8')"
   ]
  },
  {
   "cell_type": "code",
   "execution_count": 27,
   "metadata": {
    "ExecuteTime": {
     "end_time": "2018-06-13T07:11:35.035134Z",
     "start_time": "2018-06-13T07:11:34.899909Z"
    }
   },
   "outputs": [
    {
     "data": {
      "text/plain": [
       "array(['1', '0', '2', '7', '10', '4', '6', '5', '3', '8', '9', '-1'], dtype=object)"
      ]
     },
     "execution_count": 27,
     "metadata": {},
     "output_type": "execute_result"
    }
   ],
   "source": [
    "#Converting Emp_lenght to proper format\n",
    "final_loan[\"emp_length\"].replace(\"10+ years\",\"10\",inplace=True)\n",
    "final_loan[\"emp_length\"].replace(\"< 1 year\",\"0\",inplace=True)\n",
    "final_loan[\"emp_length\"].replace(\"n/a\",\"-1\",inplace=True)\n",
    "final_loan[\"emp_length\"].replace(np.nan,\"-1\",inplace=True)\n",
    "final_loan[\"emp_length\"] = final_loan[\"emp_length\"].apply(lambda x: x.split(\" \")[0])\n",
    "final_loan[\"emp_length\"].unique()"
   ]
  },
  {
   "cell_type": "code",
   "execution_count": 28,
   "metadata": {
    "ExecuteTime": {
     "end_time": "2018-06-13T07:11:35.200159Z",
     "start_time": "2018-06-13T07:11:35.039557Z"
    },
    "collapsed": true
   },
   "outputs": [],
   "source": [
    "#Converting term to proper format\n",
    "final_term = pd.DataFrame()\n",
    "final_term = final_loan['term'].apply(lambda x: int(x.split(\" \")[1]))\n",
    "final_loan['term'] = final_term"
   ]
  },
  {
   "cell_type": "code",
   "execution_count": 29,
   "metadata": {
    "ExecuteTime": {
     "end_time": "2018-06-13T07:11:35.352438Z",
     "start_time": "2018-06-13T07:11:35.204012Z"
    }
   },
   "outputs": [
    {
     "data": {
      "text/plain": [
       "array([1, 0])"
      ]
     },
     "execution_count": 29,
     "metadata": {},
     "output_type": "execute_result"
    }
   ],
   "source": [
    "#Converting the target variable into a proper format\n",
    "final_loan[\"loan_status\"].replace(\"Default\",0,inplace=True)\n",
    "final_loan[\"loan_status\"].replace(\"Late\",0,inplace=True)\n",
    "final_loan[\"loan_status\"].replace(\"Late (31-120 days)\",0,inplace=True)\n",
    "final_loan[\"loan_status\"].replace(\"Late (16-30 days)\",0,inplace=True)\n",
    "final_loan[\"loan_status\"].replace(\"Charged Off\",0,inplace=True)\n",
    "final_loan[\"loan_status\"].replace(\"Does not meet the credit policy. Status:Charged Off\",0,inplace=True)\n",
    "final_loan[\"loan_status\"].replace(\"Charged Off\",0,inplace=True)\n",
    "\n",
    "final_loan[\"loan_status\"].replace(\"Issued\",1,inplace=True)\n",
    "final_loan[\"loan_status\"].replace(\"Current\",1,inplace=True)\n",
    "final_loan[\"loan_status\"].replace(\"In Grace Period\",1,inplace=True)\n",
    "final_loan[\"loan_status\"].replace(\"Fully Paid\",1,inplace=True)\n",
    "final_loan[\"loan_status\"].replace(\"Does not meet the credit policy. Status:Fully Paid\",1,inplace=True)\n",
    "\n",
    "final_loan[\"loan_status\"].unique()\n"
   ]
  },
  {
   "cell_type": "code",
   "execution_count": 30,
   "metadata": {
    "ExecuteTime": {
     "end_time": "2018-06-13T07:11:36.306424Z",
     "start_time": "2018-06-13T07:11:35.356539Z"
    }
   },
   "outputs": [
    {
     "data": {
      "image/png": "[encoded data removed]",
      "text/plain": [
       "<matplotlib.figure.Figure at 0x12600be80>"
      ]
     },
     "metadata": {},
     "output_type": "display_data"
    }
   ],
   "source": [
    "#Visualizing correlations\n",
    "plt.figure(figsize = (14,12))\n",
    "sns.heatmap(final_loan.corr(),square = True)\n",
    "plt.show()"
   ]
  },
  {
   "cell_type": "code",
   "execution_count": 31,
   "metadata": {
    "ExecuteTime": {
     "end_time": "2018-06-13T07:11:36.550155Z",
     "start_time": "2018-06-13T07:11:36.311331Z"
    }
   },
   "outputs": [
    {
     "data": {
      "text/html": [
       "<div>\n",
       "<style scoped>\n",
       "    .dataframe tbody tr th:only-of-type {\n",
       "        vertical-align: middle;\n",
       "    }\n",
       "\n",
       "    .dataframe tbody tr th {\n",
       "        vertical-align: top;\n",
       "    }\n",
       "\n",
       "    .dataframe thead th {\n",
       "        text-align: right;\n",
       "    }\n",
       "</style>\n",
       "<table border=\"1\" class=\"dataframe\">\n",
       "  <thead>\n",
       "    <tr style=\"text-align: right;\">\n",
       "      <th></th>\n",
       "      <th>0</th>\n",
       "    </tr>\n",
       "  </thead>\n",
       "  <tbody>\n",
       "    <tr>\n",
       "      <th>emp_title</th>\n",
       "      <td>10494</td>\n",
       "    </tr>\n",
       "    <tr>\n",
       "      <th>title</th>\n",
       "      <td>28</td>\n",
       "    </tr>\n",
       "    <tr>\n",
       "      <th>purpose</th>\n",
       "      <td>0</td>\n",
       "    </tr>\n",
       "    <tr>\n",
       "      <th>pymnt_plan</th>\n",
       "      <td>0</td>\n",
       "    </tr>\n",
       "    <tr>\n",
       "      <th>loan_status</th>\n",
       "      <td>0</td>\n",
       "    </tr>\n",
       "  </tbody>\n",
       "</table>\n",
       "</div>"
      ],
      "text/plain": [
       "                 0\n",
       "emp_title    10494\n",
       "title           28\n",
       "purpose          0\n",
       "pymnt_plan       0\n",
       "loan_status      0"
      ]
     },
     "execution_count": 31,
     "metadata": {},
     "output_type": "execute_result"
    }
   ],
   "source": [
    "# We still have missing values\n",
    "pd.DataFrame(final_loan.isnull().sum().sort_values( ascending = [False])).head()"
   ]
  },
  {
   "cell_type": "code",
   "execution_count": 32,
   "metadata": {
    "ExecuteTime": {
     "end_time": "2018-06-13T07:11:36.611380Z",
     "start_time": "2018-06-13T07:11:36.553581Z"
    },
    "collapsed": true
   },
   "outputs": [],
   "source": [
    "#Dropping the last missing values columns emp_title and title\n",
    "final_loan = final_loan.drop(['emp_title','title'], axis = 1)"
   ]
  },
  {
   "cell_type": "code",
   "execution_count": 33,
   "metadata": {
    "ExecuteTime": {
     "end_time": "2018-06-13T07:11:36.649869Z",
     "start_time": "2018-06-13T07:11:36.615170Z"
    }
   },
   "outputs": [
    {
     "data": {
      "text/plain": [
       "['grade',\n",
       " 'emp_length',\n",
       " 'home_ownership',\n",
       " 'verification_status',\n",
       " 'pymnt_plan',\n",
       " 'purpose',\n",
       " 'zip_code',\n",
       " 'addr_state',\n",
       " 'application_type']"
      ]
     },
     "execution_count": 33,
     "metadata": {},
     "output_type": "execute_result"
    }
   ],
   "source": [
    "#Isolating categorical features\n",
    "categorical = list(final_loan.select_dtypes(include = ['object']).columns)\n",
    "categorical"
   ]
  },
  {
   "cell_type": "code",
   "execution_count": 34,
   "metadata": {
    "ExecuteTime": {
     "end_time": "2018-06-13T07:11:41.759051Z",
     "start_time": "2018-06-13T07:11:36.653801Z"
    }
   },
   "outputs": [
    {
     "name": "stdout",
     "output_type": "stream",
     "text": [
      "Modifying grade\n",
      "Modifying emp_length\n",
      "Modifying home_ownership\n",
      "Modifying verification_status\n",
      "Modifying pymnt_plan\n",
      "Modifying purpose\n",
      "Modifying zip_code\n",
      "Modifying addr_state\n",
      "Modifying application_type\n"
     ]
    }
   ],
   "source": [
    "#One-hot encodding of categorical features\n",
    "for col in categorical:\n",
    "    print(\"Modifying \" + col)\n",
    "    tmp = pd.get_dummies(final_loan[col], prefix=col)\n",
    "    final_loan = pd.concat((final_loan, tmp), axis=1)\n",
    "    \n",
    "final_loan.drop(categorical, axis=1, inplace=True)"
   ]
  },
  {
   "cell_type": "code",
   "execution_count": 35,
   "metadata": {
    "ExecuteTime": {
     "end_time": "2018-06-13T07:11:41.781080Z",
     "start_time": "2018-06-13T07:11:41.762212Z"
    }
   },
   "outputs": [
    {
     "data": {
      "text/plain": [
       "[]"
      ]
     },
     "execution_count": 35,
     "metadata": {},
     "output_type": "execute_result"
    }
   ],
   "source": [
    "#No more categorical variables now\n",
    "list(final_loan.select_dtypes(include = ['object']).columns)"
   ]
  },
  {
   "cell_type": "code",
   "execution_count": 36,
   "metadata": {
    "ExecuteTime": {
     "end_time": "2018-06-13T07:11:44.127638Z",
     "start_time": "2018-06-13T07:11:41.787194Z"
    },
    "collapsed": true
   },
   "outputs": [],
   "source": [
    "#Dropping interest rates and other columns, which can be considered as cheating.\n",
    "final_loan_int_rate = final_loan['int_rate']\n",
    "final_loan = final_loan.drop(['int_rate'], axis = 1)\n",
    "final_loan = final_loan.drop(['out_prncp_inv'], axis = 1)\n",
    "final_loan = final_loan.drop(['out_prncp'], axis = 1)\n",
    "final_loan = final_loan.drop(['total_rec_prncp'], axis = 1)\n",
    "final_loan = final_loan.drop(['total_pymnt'], axis = 1)\n",
    "final_loan = final_loan.drop(['index'], axis = 1)\n",
    "final_loan = final_loan.drop(['member_id'], axis = 1)"
   ]
  },
  {
   "cell_type": "code",
   "execution_count": 37,
   "metadata": {
    "ExecuteTime": {
     "end_time": "2018-06-13T07:11:45.099344Z",
     "start_time": "2018-06-13T07:11:44.130175Z"
    },
    "collapsed": true
   },
   "outputs": [],
   "source": [
    "#Splitting train and test \n",
    "y = final_loan['loan_status']\n",
    "X = final_loan.loc[:, final_loan.columns != 'loan_status']\n",
    "X_train, X_test, y_train, y_test = train_test_split (X, y, test_size=0.2)"
   ]
  },
  {
   "cell_type": "code",
   "execution_count": 38,
   "metadata": {
    "ExecuteTime": {
     "end_time": "2018-06-13T07:11:45.113459Z",
     "start_time": "2018-06-13T07:11:45.101954Z"
    }
   },
   "outputs": [
    {
     "data": {
      "text/plain": [
       "0.9261677267505394"
      ]
     },
     "execution_count": 38,
     "metadata": {},
     "output_type": "execute_result"
    }
   ],
   "source": [
    "#Baseline model\n",
    "sum(y_test == 1)/len(y_test)"
   ]
  },
  {
   "cell_type": "code",
   "execution_count": 39,
   "metadata": {
    "ExecuteTime": {
     "end_time": "2018-06-13T07:16:06.192398Z",
     "start_time": "2018-06-13T07:11:45.117623Z"
    }
   },
   "outputs": [
    {
     "data": {
      "text/html": [
       "<div>\n",
       "<style scoped>\n",
       "    .dataframe tbody tr th:only-of-type {\n",
       "        vertical-align: middle;\n",
       "    }\n",
       "\n",
       "    .dataframe tbody tr th {\n",
       "        vertical-align: top;\n",
       "    }\n",
       "\n",
       "    .dataframe thead th {\n",
       "        text-align: right;\n",
       "    }\n",
       "</style>\n",
       "<table border=\"1\" class=\"dataframe\">\n",
       "  <thead>\n",
       "    <tr style=\"text-align: right;\">\n",
       "      <th></th>\n",
       "      <th>0</th>\n",
       "    </tr>\n",
       "  </thead>\n",
       "  <tbody>\n",
       "    <tr>\n",
       "      <th>0.0</th>\n",
       "      <td>0.000000</td>\n",
       "    </tr>\n",
       "    <tr>\n",
       "      <th>1.0</th>\n",
       "      <td>0.926168</td>\n",
       "    </tr>\n",
       "    <tr>\n",
       "      <th>2.0</th>\n",
       "      <td>0.926644</td>\n",
       "    </tr>\n",
       "    <tr>\n",
       "      <th>3.0</th>\n",
       "      <td>0.926364</td>\n",
       "    </tr>\n",
       "    <tr>\n",
       "      <th>4.0</th>\n",
       "      <td>0.926420</td>\n",
       "    </tr>\n",
       "    <tr>\n",
       "      <th>5.0</th>\n",
       "      <td>0.926896</td>\n",
       "    </tr>\n",
       "    <tr>\n",
       "      <th>6.0</th>\n",
       "      <td>0.926980</td>\n",
       "    </tr>\n",
       "    <tr>\n",
       "      <th>7.0</th>\n",
       "      <td>0.927036</td>\n",
       "    </tr>\n",
       "    <tr>\n",
       "      <th>8.0</th>\n",
       "      <td>0.926280</td>\n",
       "    </tr>\n",
       "    <tr>\n",
       "      <th>9.0</th>\n",
       "      <td>0.925803</td>\n",
       "    </tr>\n",
       "    <tr>\n",
       "      <th>10.0</th>\n",
       "      <td>0.925635</td>\n",
       "    </tr>\n",
       "    <tr>\n",
       "      <th>11.0</th>\n",
       "      <td>0.925551</td>\n",
       "    </tr>\n",
       "    <tr>\n",
       "      <th>12.0</th>\n",
       "      <td>0.924935</td>\n",
       "    </tr>\n",
       "    <tr>\n",
       "      <th>13.0</th>\n",
       "      <td>0.924627</td>\n",
       "    </tr>\n",
       "    <tr>\n",
       "      <th>14.0</th>\n",
       "      <td>0.923870</td>\n",
       "    </tr>\n",
       "    <tr>\n",
       "      <th>15.0</th>\n",
       "      <td>0.923114</td>\n",
       "    </tr>\n",
       "    <tr>\n",
       "      <th>16.0</th>\n",
       "      <td>0.921516</td>\n",
       "    </tr>\n",
       "    <tr>\n",
       "      <th>17.0</th>\n",
       "      <td>0.921460</td>\n",
       "    </tr>\n",
       "    <tr>\n",
       "      <th>18.0</th>\n",
       "      <td>0.921040</td>\n",
       "    </tr>\n",
       "    <tr>\n",
       "      <th>19.0</th>\n",
       "      <td>0.919191</td>\n",
       "    </tr>\n",
       "  </tbody>\n",
       "</table>\n",
       "</div>"
      ],
      "text/plain": [
       "             0\n",
       "0.0   0.000000\n",
       "1.0   0.926168\n",
       "2.0   0.926644\n",
       "3.0   0.926364\n",
       "4.0   0.926420\n",
       "5.0   0.926896\n",
       "6.0   0.926980\n",
       "7.0   0.927036\n",
       "8.0   0.926280\n",
       "9.0   0.925803\n",
       "10.0  0.925635\n",
       "11.0  0.925551\n",
       "12.0  0.924935\n",
       "13.0  0.924627\n",
       "14.0  0.923870\n",
       "15.0  0.923114\n",
       "16.0  0.921516\n",
       "17.0  0.921460\n",
       "18.0  0.921040\n",
       "19.0  0.919191"
      ]
     },
     "execution_count": 39,
     "metadata": {},
     "output_type": "execute_result"
    }
   ],
   "source": [
    "#Simple decision tree\n",
    "accuracy=np.zeros(20)\n",
    "depth=np.zeros(20)\n",
    "table=pd.DataFrame(accuracy,depth)\n",
    "\n",
    "for i in range(1,20):\n",
    "    clf = tree.DecisionTreeClassifier(max_depth=i)\n",
    "    clf.fit(X_train, y_train)\n",
    "    predictions = clf.predict(X_test)\n",
    "    depth[i]=i\n",
    "    accuracy[i] = clf.score(X_test, y_test)\n",
    "    \n",
    "table"
   ]
  },
  {
   "cell_type": "code",
   "execution_count": 40,
   "metadata": {
    "ExecuteTime": {
     "end_time": "2018-06-13T07:16:06.214208Z",
     "start_time": "2018-06-13T07:16:06.199685Z"
    }
   },
   "outputs": [
    {
     "name": "stdout",
     "output_type": "stream",
     "text": [
      "The maximum accuracy obtained with a simple decision tree is the following: 92.70363417299447% with a depth of 8\n"
     ]
    }
   ],
   "source": [
    "#max accuracy \n",
    "print(\"The maximum accuracy obtained with a simple decision tree is the following: \" + str(max(table[0])*100)+ '% with a depth of 8')"
   ]
  },
  {
   "cell_type": "code",
   "execution_count": 41,
   "metadata": {
    "ExecuteTime": {
     "end_time": "2018-06-13T07:21:06.582116Z",
     "start_time": "2018-06-13T07:16:06.217451Z"
    }
   },
   "outputs": [
    {
     "name": "stdout",
     "output_type": "stream",
     "text": [
      "When the max depth is 30 the accuracy is\n",
      "0.926335845779\n",
      "\n",
      "When the max depth is 32 the accuracy is\n",
      "0.926083667236\n",
      "\n",
      "When the max depth is 34 the accuracy is\n",
      "0.926447925131\n",
      "\n",
      "When the max depth is 36 the accuracy is\n",
      "0.926475944969\n",
      "\n",
      "When the max depth is 38 the accuracy is\n",
      "0.926447925131\n",
      "\n",
      "When the max depth is 40 the accuracy is\n",
      "0.925943568046\n",
      "\n",
      "When the max depth is 42 the accuracy is\n",
      "0.926307825941\n",
      "\n",
      "When the max depth is 44 the accuracy is\n",
      "0.925719409342\n",
      "\n",
      "When the max depth is 46 the accuracy is\n",
      "0.926251786265\n",
      "\n",
      "When the max depth is 48 the accuracy is\n",
      "0.926644063997\n",
      "\n",
      "When the max depth is 50 the accuracy is\n",
      "0.926223766427\n",
      "\n",
      "When the max depth is 52 the accuracy is\n",
      "0.926279806103\n",
      "\n",
      "When the max depth is 54 the accuracy is\n",
      "0.926167726751\n",
      "\n",
      "When the max depth is 56 the accuracy is\n",
      "0.925775449018\n",
      "\n",
      "When the max depth is 58 the accuracy is\n",
      "0.92602762756\n",
      "\n",
      "When the max depth is 60 the accuracy is\n",
      "0.925943568046\n",
      "\n",
      "When the max depth is 62 the accuracy is\n",
      "0.925299111771\n",
      "\n",
      "When the max depth is 64 the accuracy is\n",
      "0.926055647398\n",
      "\n",
      "When the max depth is 66 the accuracy is\n",
      "0.925971587884\n",
      "\n",
      "When the max depth is 68 the accuracy is\n",
      "0.924934853877\n",
      "\n",
      "The maximum accuracy of 0.926644063997 is achieved with the max depth of 48\n"
     ]
    }
   ],
   "source": [
    "#Random Forest\n",
    "depth = np.arange(30,70,2)\n",
    "i_max = 0\n",
    "accuracy_max = 0\n",
    "\n",
    "for i in depth:\n",
    "    clf = RandomForestClassifier(max_depth = i, random_state=0)\n",
    "    clf.fit(X_train, y_train)\n",
    "    y_predict = clf.predict(X_test)\n",
    "    print ('When the max depth is ' + str(i) + ' the accuracy is')\n",
    "    print(accuracy_score(np.array(y_test), y_predict, normalize=True))\n",
    "    print('')\n",
    "    if (accuracy_score(np.array(y_test), y_predict, normalize=True)>accuracy_max):\n",
    "        accuracy_max=accuracy_score(np.array(y_test), y_predict, normalize=True)\n",
    "        i_max=i\n",
    "        \n",
    "print('The maximum accuracy of ' + str(accuracy_max) + ' is achieved with the max depth of ' + str(i_max))"
   ]
  },
  {
   "cell_type": "code",
   "execution_count": 42,
   "metadata": {
    "ExecuteTime": {
     "end_time": "2018-06-13T07:22:06.511882Z",
     "start_time": "2018-06-13T07:21:06.591553Z"
    },
    "collapsed": true
   },
   "outputs": [],
   "source": [
    "#Our best model\n",
    "clf = RandomForestClassifier(n_estimators = 36, max_depth=60)\n",
    "clf.fit(X_train, y_train)\n",
    "predictions = clf.predict(X_test)"
   ]
  },
  {
   "cell_type": "code",
   "execution_count": 43,
   "metadata": {
    "ExecuteTime": {
     "end_time": "2018-06-13T07:22:06.543860Z",
     "start_time": "2018-06-13T07:22:06.516552Z"
    }
   },
   "outputs": [
    {
     "name": "stdout",
     "output_type": "stream",
     "text": [
      "Features sorted by their score (Random Forest Classifier):\n"
     ]
    }
   ],
   "source": [
    "#Ranking the most important factors affecting the Random Forest Classifier:\n",
    "print (\"Features sorted by their score (Random Forest Classifier):\")\n",
    "feature_importance = clf.feature_importances_"
   ]
  },
  {
   "cell_type": "code",
   "execution_count": 44,
   "metadata": {
    "ExecuteTime": {
     "end_time": "2018-06-13T07:22:06.579069Z",
     "start_time": "2018-06-13T07:22:06.549231Z"
    },
    "collapsed": true
   },
   "outputs": [],
   "source": [
    "#Isolating the importance of each factor to the model\n",
    "major_factor = pd.DataFrame(clf.feature_importances_, columns = ['Importance'],index = X_train.columns)"
   ]
  },
  {
   "cell_type": "code",
   "execution_count": 45,
   "metadata": {
    "ExecuteTime": {
     "end_time": "2018-06-13T07:22:06.596637Z",
     "start_time": "2018-06-13T07:22:06.585973Z"
    },
    "collapsed": true
   },
   "outputs": [],
   "source": [
    "#Sorting the factors\n",
    "sorted_factors = major_factor.sort_values([\"Importance\"], ascending = [False])"
   ]
  },
  {
   "cell_type": "code",
   "execution_count": 46,
   "metadata": {
    "ExecuteTime": {
     "end_time": "2018-06-13T07:22:06.628257Z",
     "start_time": "2018-06-13T07:22:06.601508Z"
    }
   },
   "outputs": [
    {
     "data": {
      "text/html": [
       "<div>\n",
       "<style scoped>\n",
       "    .dataframe tbody tr th:only-of-type {\n",
       "        vertical-align: middle;\n",
       "    }\n",
       "\n",
       "    .dataframe tbody tr th {\n",
       "        vertical-align: top;\n",
       "    }\n",
       "\n",
       "    .dataframe thead th {\n",
       "        text-align: right;\n",
       "    }\n",
       "</style>\n",
       "<table border=\"1\" class=\"dataframe\">\n",
       "  <thead>\n",
       "    <tr style=\"text-align: right;\">\n",
       "      <th></th>\n",
       "      <th>Importance</th>\n",
       "    </tr>\n",
       "  </thead>\n",
       "  <tbody>\n",
       "    <tr>\n",
       "      <th>last_pymnt_amnt</th>\n",
       "      <td>0.054034</td>\n",
       "    </tr>\n",
       "    <tr>\n",
       "      <th>tot_cur_bal</th>\n",
       "      <td>0.044140</td>\n",
       "    </tr>\n",
       "    <tr>\n",
       "      <th>installment</th>\n",
       "      <td>0.040348</td>\n",
       "    </tr>\n",
       "    <tr>\n",
       "      <th>dti</th>\n",
       "      <td>0.038895</td>\n",
       "    </tr>\n",
       "    <tr>\n",
       "      <th>revol_bal</th>\n",
       "      <td>0.038294</td>\n",
       "    </tr>\n",
       "    <tr>\n",
       "      <th>revol_util</th>\n",
       "      <td>0.038154</td>\n",
       "    </tr>\n",
       "    <tr>\n",
       "      <th>annual_inc</th>\n",
       "      <td>0.037882</td>\n",
       "    </tr>\n",
       "    <tr>\n",
       "      <th>funded_amnt_inv</th>\n",
       "      <td>0.035503</td>\n",
       "    </tr>\n",
       "    <tr>\n",
       "      <th>total_acc</th>\n",
       "      <td>0.034091</td>\n",
       "    </tr>\n",
       "    <tr>\n",
       "      <th>total_rec_late_fee</th>\n",
       "      <td>0.033164</td>\n",
       "    </tr>\n",
       "    <tr>\n",
       "      <th>loan_amnt</th>\n",
       "      <td>0.032791</td>\n",
       "    </tr>\n",
       "    <tr>\n",
       "      <th>funded_amnt</th>\n",
       "      <td>0.032337</td>\n",
       "    </tr>\n",
       "    <tr>\n",
       "      <th>open_acc</th>\n",
       "      <td>0.030617</td>\n",
       "    </tr>\n",
       "    <tr>\n",
       "      <th>mths_since_last_delinq</th>\n",
       "      <td>0.023749</td>\n",
       "    </tr>\n",
       "    <tr>\n",
       "      <th>inq_last_6mths</th>\n",
       "      <td>0.019743</td>\n",
       "    </tr>\n",
       "  </tbody>\n",
       "</table>\n",
       "</div>"
      ],
      "text/plain": [
       "                        Importance\n",
       "last_pymnt_amnt           0.054034\n",
       "tot_cur_bal               0.044140\n",
       "installment               0.040348\n",
       "dti                       0.038895\n",
       "revol_bal                 0.038294\n",
       "revol_util                0.038154\n",
       "annual_inc                0.037882\n",
       "funded_amnt_inv           0.035503\n",
       "total_acc                 0.034091\n",
       "total_rec_late_fee        0.033164\n",
       "loan_amnt                 0.032791\n",
       "funded_amnt               0.032337\n",
       "open_acc                  0.030617\n",
       "mths_since_last_delinq    0.023749\n",
       "inq_last_6mths            0.019743"
      ]
     },
     "execution_count": 46,
     "metadata": {},
     "output_type": "execute_result"
    }
   ],
   "source": [
    "#Most important factors\n",
    "sorted_factors.head(15)"
   ]
  },
  {
   "cell_type": "code",
   "execution_count": 51,
   "metadata": {
    "ExecuteTime": {
     "end_time": "2018-06-13T07:25:44.665798Z",
     "start_time": "2018-06-13T07:25:44.660581Z"
    }
   },
   "outputs": [],
   "source": [
    "selected_sorted_factor = sorted_factors[:30]"
   ]
  },
  {
   "cell_type": "code",
   "execution_count": 52,
   "metadata": {
    "ExecuteTime": {
     "end_time": "2018-06-13T07:27:12.338536Z",
     "start_time": "2018-06-13T07:27:12.329272Z"
    },
    "collapsed": true
   },
   "outputs": [],
   "source": [
    "selected_sorted_factor.to_csv('sorted_factors.csv', sep = ';', encoding = 'utf-8')"
   ]
  },
  {
   "cell_type": "code",
   "execution_count": 47,
   "metadata": {
    "ExecuteTime": {
     "end_time": "2018-06-13T07:22:07.015395Z",
     "start_time": "2018-06-13T07:22:06.635477Z"
    }
   },
   "outputs": [
    {
     "data": {
      "image/png": "[encoded data removed]",
      "text/plain": [
       "<matplotlib.figure.Figure at 0x122c96748>"
      ]
     },
     "metadata": {},
     "output_type": "display_data"
    }
   ],
   "source": [
    "#Most important factors\n",
    "plot = sorted_factors[:20].plot(kind = 'barh',figsize= (14,8))\n",
    "plot.tick_params(axis = 'both',labelsize = 20)\n",
    "plot.legend(prop= {'size':20})\n",
    "plt.gca().invert_yaxis()\n",
    "plt.show()"
   ]
  },
  {
   "cell_type": "code",
   "execution_count": 53,
   "metadata": {
    "ExecuteTime": {
     "end_time": "2018-06-13T13:29:48.344136Z",
     "start_time": "2018-06-13T13:29:48.326854Z"
    }
   },
   "outputs": [
    {
     "data": {
      "text/plain": [
       "(178445, 1009)"
      ]
     },
     "execution_count": 53,
     "metadata": {},
     "output_type": "execute_result"
    }
   ],
   "source": [
    "final_loan.shape"
   ]
  },
  {
   "cell_type": "markdown",
   "metadata": {},
   "source": [
    "****"
   ]
  },
  {
   "cell_type": "markdown",
   "metadata": {},
   "source": [
    "To do:\n",
    "\n",
    "Explore other algorithms (log reg, XG Boost, DL with Lime for explanation...)\n",
    "\n",
    "\n",
    "..."
   ]
  },
  {
   "cell_type": "code",
   "execution_count": null,
   "metadata": {},
   "outputs": [],
   "source": []
  }
 ],
 "metadata": {
  "kernelspec": {
   "display_name": "Python 3",
   "language": "python",
   "name": "python3"
  },
  "language_info": {
   "codemirror_mode": {
    "name": "ipython",
    "version": 3
   },
   "file_extension": ".py",
   "mimetype": "text/x-python",
   "name": "python",
   "nbconvert_exporter": "python",
   "pygments_lexer": "ipython3",
   "version": "3.8.1"
  }
 },
 "nbformat": 4,
 "nbformat_minor": 2
}
